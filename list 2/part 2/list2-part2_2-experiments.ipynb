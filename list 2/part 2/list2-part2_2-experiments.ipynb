{
 "cells": [
  {
   "cell_type": "code",
   "execution_count": 125,
   "metadata": {},
   "outputs": [],
   "source": [
    "import numpy as np\n",
    "\n",
    "\n",
    "class Aligner:\n",
    "\n",
    "    def __init__(self, seq1, seq2):\n",
    "        self.seq1 = seq1\n",
    "        self.seq2 = seq2\n",
    "        self.pMatrix = np.zeros(len(self.seq1)+1, len(self.seq2)+1), dtype=int)\n",
    "        \n",
    "    \n",
    "    def align(self):\n",
    "        \n",
    "        for i, j in np.ndindex(self.alignMatrix.shape):\n",
    "            if i == 0:\n",
    "                continue\n",
    "            if j == 0:\n",
    "                continue\n",
    "\n",
    "            if (self.seq1[i-1] == self.seq2[j-1]):\n",
    "                self.pMatrix[i][j] = 1\n",
    "            else"
   ]
  },
  {
   "cell_type": "code",
   "execution_count": null,
   "metadata": {},
   "outputs": [],
   "source": []
  }
 ],
 "metadata": {
  "kernelspec": {
   "display_name": "Python 3",
   "language": "python",
   "name": "python3"
  },
  "language_info": {
   "codemirror_mode": {
    "name": "ipython",
    "version": 3
   },
   "file_extension": ".py",
   "mimetype": "text/x-python",
   "name": "python",
   "nbconvert_exporter": "python",
   "pygments_lexer": "ipython3",
   "version": "3.6.8"
  }
 },
 "nbformat": 4,
 "nbformat_minor": 2
}
