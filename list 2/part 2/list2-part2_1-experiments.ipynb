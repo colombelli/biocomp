{
 "cells": [
  {
   "cell_type": "code",
   "execution_count": 125,
   "metadata": {},
   "outputs": [],
   "source": [
    "import numpy as np\n",
    "\n",
    "\n",
    "class Aligner:\n",
    "\n",
    "    def __init__(self, seq1, seq2, gapPenalty, missPenalty, matchScore):\n",
    "        self.seqAlignments = []\n",
    "        self.seq1 = seq1\n",
    "        self.seq2 = seq2\n",
    "        self.gapPenalty = gapPenalty\n",
    "        self.missPenalty = missPenalty\n",
    "        self.matchScore = matchScore\n",
    "        self.alignMatrix = np.zeros(\n",
    "            (len(self.seq1)+1, len(self.seq2)+1), dtype=int)\n",
    "        self.traceBackMatrix = np.zeros(\n",
    "            (len(self.seq1)+1, len(self.seq2)+1), dtype='U4')\n",
    "        self.indexToTrace = {\n",
    "            0: \"d\",\n",
    "            1: \"l\",\n",
    "            2: \"u\",\n",
    "            3: \"f\"\n",
    "        }\n",
    "        self.finalScore = 0\n",
    "        self.identity = 0\n",
    "\n",
    "        \n",
    "    def getValue(self, i, j):\n",
    "        if self.seq1[i-1] == self.seq2[j-1]:\n",
    "            missOrMatch = self.matchScore\n",
    "        else:\n",
    "            missOrMatch = self.missPenalty\n",
    "\n",
    "        possibleValues = [\n",
    "            self.alignMatrix[i-1][j-1] + missOrMatch,\n",
    "            self.alignMatrix[i][j-1] + self.gapPenalty,\n",
    "            self.alignMatrix[i-1][j] + self.gapPenalty,\n",
    "            0\n",
    "        ]\n",
    "\n",
    "        return max(possibleValues), possibleValues.index(max(possibleValues))\n",
    "\n",
    "\n",
    "    def align(self):\n",
    "\n",
    "        for row in self.traceBackMatrix:\n",
    "            row[0] = \"f\"\n",
    "\n",
    "        for i in range(len(self.traceBackMatrix[0])):\n",
    "            self.traceBackMatrix[0][i] = \"f\"\n",
    "        self.traceBackMatrix[0][0] = \"f\"\n",
    "\n",
    "\n",
    "        for i, j in np.ndindex(self.alignMatrix.shape):\n",
    "            if i == 0:\n",
    "                continue\n",
    "            if j == 0:\n",
    "                continue\n",
    "\n",
    "            self.alignMatrix[i][j], index = self.getValue(i, j)\n",
    "            self.traceBackMatrix[i][j] = self.indexToTrace[index]\n",
    "        \n",
    "        # Find maximum value from the matrix\n",
    "        self.finalScore = np.amax(self.alignMatrix)\n",
    "        # Find index of maximum value from 2D numpy array\n",
    "        self.maxIndexes = np.where(self.alignMatrix == self.finalScore)\n",
    "\n",
    "        self.sliceMatrix()\n",
    "\n",
    "    \n",
    "    \n",
    "    \n",
    "    def sliceMatrix(self):\n",
    "            \n",
    "        listOfCoordinates = list(zip(self.maxIndexes[0], self.maxIndexes[1]))\n",
    "        \n",
    "        # make an alignment for each maximum value\n",
    "        for coord in listOfCoordinates:\n",
    "            self.slicedAlignMatrix = self.alignMatrix[0:coord[0]+1, 0:coord[1]+1]\n",
    "            self.makeAlignment()\n",
    "        \n",
    "        \n",
    "        \n",
    "    def makeAlignment(self):\n",
    "\n",
    "        s1 = ''\n",
    "        s2 = ''\n",
    "\n",
    "        i = self.slicedAlignMatrix.shape[0] - 1\n",
    "        j = self.slicedAlignMatrix.shape[1] - 1\n",
    "        print(\"Indexes from score matrix: (%d, %d)\" %(i, j))\n",
    "        alignType = self.traceBackMatrix[i][j]\n",
    "\n",
    "        while alignType != 'f':\n",
    "\n",
    "            if alignType == 'd':\n",
    "                s1 = self.seq1[i-1] + s1\n",
    "                s2 = self.seq2[j-1] + s2\n",
    "                i -= 1\n",
    "                j -= 1\n",
    "\n",
    "            if alignType == 'l':\n",
    "                s1 = '-' + s1\n",
    "                s2 = self.seq2[j-1] + s2\n",
    "                j -= 1\n",
    "\n",
    "            if alignType == 'u':\n",
    "                s1 = self.seq1[i-1] + s1\n",
    "                s2 = '-' + s2\n",
    "                i -= 1\n",
    "\n",
    "            alignType = self.traceBackMatrix[i][j]\n",
    "\n",
    "        self.s1 = s1\n",
    "        self.s2 = s2\n",
    "        self.getIdentity()\n",
    "        self.printResults()\n",
    "\n",
    "\n",
    "    def getIdentity(self):\n",
    "\n",
    "        ident = 0\n",
    "\n",
    "        for i in range(len(self.s1)):\n",
    "            if self.s1[i] == self.s2[i]:\n",
    "                ident += 1\n",
    "\n",
    "        totalPositions = max([len(self.seq1), len(self.seq2)])\n",
    "        self.identity = ident/totalPositions\n",
    "\n",
    "        \n",
    "    def printResults(self):\n",
    "        \n",
    "        lastI = self.slicedAlignMatrix.shape[0] -1\n",
    "        lastJ = self.slicedAlignMatrix.shape[1] -1\n",
    "        \n",
    "        firstI = lastI - len(self.s1)\n",
    "        firstJ = lastJ - len(self.s2)\n",
    "        \n",
    "        \n",
    "        \n",
    "        print(self.slicedAlignMatrix[firstI:, firstJ:], '\\n')\n",
    "        print(self.s1)\n",
    "        print(self.s2, '\\n')\n",
    "        print('Final Score:', self.finalScore)\n",
    "        print('Identity:', self.identity)\n",
    "        print('\\n\\n\\n')"
   ]
  },
  {
   "cell_type": "code",
   "execution_count": 126,
   "metadata": {},
   "outputs": [
    {
     "name": "stdout",
     "output_type": "stream",
     "text": [
      "MEKVPGEMEIERRERSEELSEAERKAVQAMWARLYANCEDVGVAILVRFFVNFPSAKQYFSQFKHMEDPLEMERSPQLRKHACRVMGALNTVVENLHDPDKVSSVLALVGKAHALKHKVEPVYFKILSGVILEVVAEEFASDFPPETQRAWAKLRGLIYSHVTAAYKEVGWVQQVPNATTPPATLPSSGP\n"
     ]
    }
   ],
   "source": [
    "file1 = open(\"hemoglobins/human.txt\",\"r\")\n",
    "human = file1.read()\n",
    "file1.close()\n",
    "print(human)"
   ]
  },
  {
   "cell_type": "code",
   "execution_count": 127,
   "metadata": {},
   "outputs": [
    {
     "name": "stdout",
     "output_type": "stream",
     "text": [
      "MFVLKGSVVQAFVLLSIVCLEITIADDGVRYVNAEWKRPEQSQEGRHSCTARRLEDNSEEVACSTEVKFRQRAPAEYANKIKKAKDKLRRLESQFDDCQQENDRKDRLIQLQANLTDTIHRLVTDSDIQALRSSWATLTAGADGRNNFGNNFVLWLLNTIPNIRERFEKFNAHQSDEALKNDNEFVKQVKLIVGGLQSFIDNLENPGQLQATIERLASVHLKMRPTIGLEYFRPLQENIAQYVASALGVGADDAAPKAWERLLNAFNEVLNSFANYNIGLSDTDKVALQSSWSRLTAGADGKRNAGVRLVLWMFNNVPNMRERFTKFNARQSDEALKTDAEFLKQVDAIIGGFETLINNLNDADLLLNRLESLADEHLEKKPAISSNYFGPLQKNIHLFIEGTLNFGSDSDEARAWTHLVGALNKVIKDHAIHNLGLSDIDRDALVSSWNQLTGRAGGSRNAGTNLVLWMLENVPNMRDQFSKFNARQSDDNLRKDAEFVRQVDLITGGLESLVDNVNNPIFLQEALVRLADAHLNLKPRVGLEYFGPLQRYIHAYIEKALGVSADSAAPRAWTDLLTAFNNVLKDRTFLRIVSDDDRRALQSSWSRLQSQAGNKQEAGIKLVTWLFDNVPNMRDRFTKFNAHSSDEALRANNEFLRQVDVIVGGLDSLINNVDNSDNFQAAIERLVDVHLHMSPSVGLEYFGPLQQNIRSYIQNALGVAADSAEARSWTNLFTAFNEFLADHTIQKIGLSPTDRKVLDRTWKQLTSGGKQEAGVKLVLWMFDQVPNMRDQFSKFDARKSEAELRNDAEFINQVNNIVGGLDSILNNLDKPGQLQAALERLADYHLDHKPRIGLEFFGPLQKYIHLYIESALNVAVGSEESRAWTDLLTALNKVIRDHAIDRLGLSDNDREAIDSSWKKLRSGAGGRRNAGIKLVQWMLRTIPNMRDRFNKFDAKQSDAALQRDPEFLAQVDRILGGVESLVNNVDDPVALKAAIDRLADAHLSFDPRVGLDYFGPLQTYIHDYIEEALGVGADSDEAKGWTDLFAAFNKVLKERTVLKIVSDNERAALRSSWDSLKSAAGGTQEAGVRLVLWMLQNVPNMRERFNKFNALQGDDALRADAEFVKQVERIAGGLESLINNVDNQGKLQAAIDRLVNAHLNFRPSVGLEYFQPLQENIYKYLESALIVAADSNEAKAWTHLLSAFNTVLREHSLEKIGLSDVDRKALESSWKKLTDAAGGSENAGTNLVFWLLDNVPNMRDRFTKFNAHQSNAALQDDDEFRNQVRAITRGIESFVNNVNNPAALQSSIENLVDAHLNFQPSIGLSYFGSVQQYIHLYIAKALGVASNSDEAKSWTNLFAAFNKVLKEHSLEKIGISDSDKRALVSSWKKLTAGGRQNFGVDLVLWMFNNVPNMREQFTKFDAKQSDADLRRDPNFLKQVNNIINGVGDLVDSVNDPGKLQANLERLTDVHLHFVPSVGPEFFGPLQKNIHTFIEQALGVGADSDEPKAWTDLIGAFNKVLNDHAIQHIGLSETDRRALDSSWKRLTAGENGVQKAGVNLVLWFFNNIPNMRERFTKFDANQADDALRADPEFQKQVNVIVGGLKSFLDSVNDPIALQANMDRVAEAHLSMDPVVGVPYFSALSQNIHRFIEISLGVTADSDESQAWTDLLAGFTRVVRNRAVLRKVSDSDKSAFVSSWNELIRKAASRRNAGVNLVLWLFNNVPNMRNHFTKFNGNQPDAALRNDQEFLNQVDRIAGGLESLVKNVNNPARFLDALERLSSAHLNMKPSIGLEYFGPLQQNIHTYIESALGVAAGSDEANAWTDVFGAFNEILKYSSVEKIGLSDSDKQALTSSWSSLIAEGKDTAGEKLVLWMFDNVPNMRARFTKFDATQSDEALRNDKEFRNQVNVIVGGLELLINSVNEPGQLQANLEKLVDDHLHMVPSVGLEYFGPLQKYIHLFIEKALGVSSNSVESKSWTNLLRAFNKVLKEHSVKKIGLSEEDRKAIVSSWRKLVGRAGGRDNAGTNLVLWMFENVPNMRDRFTKFNAYQPDSALRQDREFGAQVDRITSGLESLVNNVENPGQFQAALERLSTLHKNKTPSVGLQYFGPLQRYIHLYIEQNLNVASDSVESRAWTNLFASFNEVLKKA\n"
     ]
    }
   ],
   "source": [
    "file1 = open(\"hemoglobins/biomphalaria.txt\",\"r\")\n",
    "biomphalaria = file1.read()\n",
    "file1.close()\n",
    "print(biomphalaria)"
   ]
  },
  {
   "cell_type": "code",
   "execution_count": 128,
   "metadata": {},
   "outputs": [
    {
     "name": "stdout",
     "output_type": "stream",
     "text": [
      "Indexes from score matrix: (23, 803)\n",
      "[[0 0 0 0 0]\n",
      " [0 1 0 0 0]\n",
      " [0 0 2 0 1]\n",
      " [0 0 0 3 1]\n",
      " [0 0 1 1 4]] \n",
      "\n",
      "SEAE\n",
      "SEAE \n",
      "\n",
      "Final Score: 4\n",
      "Identity: 0.00186219739292365\n",
      "\n",
      "\n",
      "\n",
      "\n",
      "Indexes from score matrix: (26, 2005)\n",
      "[[0 0 0 1 3 1 0 0 0]\n",
      " [0 1 0 0 1 2 0 0 0]\n",
      " [0 0 2 0 0 0 1 0 0]\n",
      " [0 0 0 3 1 0 0 0 0]\n",
      " [0 0 0 1 2 0 0 0 1]\n",
      " [0 0 0 1 2 1 0 0 0]\n",
      " [0 0 0 0 0 1 2 0 0]\n",
      " [0 0 0 0 0 0 0 3 1]\n",
      " [0 0 0 0 0 0 0 1 4]] \n",
      "\n",
      "LSEAERKA\n",
      "LSEEDRKA \n",
      "\n",
      "Final Score: 4\n",
      "Identity: 0.002793296089385475\n",
      "\n",
      "\n",
      "\n",
      "\n",
      "Indexes from score matrix: (90, 424)\n",
      "[[0 0 0 0 0]\n",
      " [0 1 0 0 0]\n",
      " [0 0 2 0 0]\n",
      " [0 0 0 3 1]\n",
      " [0 0 0 1 4]] \n",
      "\n",
      "GALN\n",
      "GALN \n",
      "\n",
      "Final Score: 4\n",
      "Identity: 0.00186219739292365\n",
      "\n",
      "\n",
      "\n",
      "\n",
      "Indexes from score matrix: (92, 426)\n",
      "[[0 0 0 0 0 0 0]\n",
      " [0 1 0 0 0 0 0]\n",
      " [0 0 2 0 0 0 0]\n",
      " [0 0 0 3 1 0 0]\n",
      " [0 0 0 1 4 2 0]\n",
      " [0 0 0 0 2 3 1]\n",
      " [1 0 0 0 0 1 4]] \n",
      "\n",
      "GALNTV\n",
      "GALNKV \n",
      "\n",
      "Final Score: 4\n",
      "Identity: 0.0023277467411545625\n",
      "\n",
      "\n",
      "\n",
      "\n",
      "Indexes from score matrix: (177, 787)\n",
      "[[0 1 0 0 0]\n",
      " [0 1 0 0 0]\n",
      " [0 0 2 0 0]\n",
      " [0 0 0 3 1]\n",
      " [0 0 0 1 4]] \n",
      "\n",
      "QVPN\n",
      "QVPN \n",
      "\n",
      "Final Score: 4\n",
      "Identity: 0.00186219739292365\n",
      "\n",
      "\n",
      "\n",
      "\n",
      "[[0 1 0 0 0]\n",
      " [0 1 0 0 0]\n",
      " [0 0 2 0 0]\n",
      " [0 0 0 3 1]\n",
      " [0 0 0 1 4]] \n",
      "\n",
      "QVPN\n",
      "QVPN \n",
      "\n",
      "Final Score: 4\n",
      "Identity: 0.00186219739292365\n",
      "\n",
      "\n",
      "\n",
      "\n"
     ]
    }
   ],
   "source": [
    "gap = -2\n",
    "match = 1\n",
    "missmatch = -1\n",
    "\n",
    "\n",
    "aligner = Aligner(human, biomphalaria, gap, missmatch, match)\n",
    "aligner.align()\n",
    "\n",
    "aligner.printResults()"
   ]
  },
  {
   "cell_type": "code",
   "execution_count": null,
   "metadata": {},
   "outputs": [],
   "source": [
    "aligner.maxIndexes"
   ]
  },
  {
   "cell_type": "code",
   "execution_count": 66,
   "metadata": {},
   "outputs": [
    {
     "name": "stdout",
     "output_type": "stream",
     "text": [
      "91 425\n"
     ]
    }
   ],
   "source": [
    "print(aligner.slicedAlignMatrix.shape[0], aligner.slicedAlignMatrix.shape[1])"
   ]
  },
  {
   "cell_type": "code",
   "execution_count": 67,
   "metadata": {},
   "outputs": [
    {
     "data": {
      "image/png": "[encoded data removed]",
      "text/plain": [
       "<Figure size 1152x246.664 with 1 Axes>"
      ]
     },
     "metadata": {
      "needs_background": "light"
     },
     "output_type": "display_data"
    },
    {
     "data": {
      "text/plain": [
       "<Figure size 432x288 with 0 Axes>"
      ]
     },
     "metadata": {},
     "output_type": "display_data"
    }
   ],
   "source": [
    "import numpy as np\n",
    "import matplotlib.pyplot as plt\n",
    "\n",
    "plt.matshow(aligner.slicedAlignMatrix)\n",
    "plt.show()\n",
    "plt.savefig('test.png')"
   ]
  },
  {
   "cell_type": "code",
   "execution_count": null,
   "metadata": {},
   "outputs": [],
   "source": [
    "aligner.alignMatrix"
   ]
  },
  {
   "cell_type": "code",
   "execution_count": 24,
   "metadata": {},
   "outputs": [],
   "source": [
    "bestVal = (0, 0)\n",
    "bestKey = ''\n",
    "draws = []\n",
    "\n",
    "for key, value in scores.items():\n",
    "    \n",
    "    if value[0] > bestVal[0]:\n",
    "        bestVal = value\n",
    "        bestKey = key\n",
    "        draws = []\n",
    "    \n",
    "    elif value[0] == bestVal[0]:\n",
    "        if value[1] > bestVal[1]:\n",
    "            bestVal = value\n",
    "            bestKey = key\n",
    "            draws = []\n",
    "            \n",
    "        elif value[1] == bestVal[1]:\n",
    "            draws.append(key)"
   ]
  },
  {
   "cell_type": "code",
   "execution_count": 25,
   "metadata": {},
   "outputs": [
    {
     "name": "stdout",
     "output_type": "stream",
     "text": [
      "(560, 0.8723404255319149) human vs cow\n"
     ]
    }
   ],
   "source": [
    "print(bestVal, bestKey)"
   ]
  },
  {
   "cell_type": "code",
   "execution_count": 26,
   "metadata": {},
   "outputs": [
    {
     "name": "stdout",
     "output_type": "stream",
     "text": [
      "['human vs horse']\n"
     ]
    }
   ],
   "source": [
    "print(draws)"
   ]
  },
  {
   "cell_type": "code",
   "execution_count": 27,
   "metadata": {},
   "outputs": [
    {
     "name": "stdout",
     "output_type": "stream",
     "text": [
      "\n",
      "The best score was achieved when human vs cow were compared. \n",
      "Obtained score: 560 \n",
      "Obtained identity: 0.8723404255319149\n"
     ]
    }
   ],
   "source": [
    "print(\"\\nThe best score was achieved when \"+bestKey +\n",
    "          \" were compared. \\nObtained score:\", scores[bestKey][0], \"\\nObtained identity:\", scores[bestKey][1])"
   ]
  },
  {
   "cell_type": "code",
   "execution_count": 28,
   "metadata": {},
   "outputs": [
    {
     "name": "stdout",
     "output_type": "stream",
     "text": [
      "\n",
      "More than one sequence aligment produced the same final score and identity.\n",
      "\n",
      "human vs cow - (score, identity): (560, 0.8723404255319149)\n",
      "human vs horse - (score, identity): (560, 0.8723404255319149)\n"
     ]
    }
   ],
   "source": [
    "print(\"\\nMore than one sequence aligment produced the same final score and identity.\\n\")\n",
    "print(bestKey,\"- (score, identity):\", scores[bestKey])\n",
    "\n",
    "for d in draws:\n",
    "    print(d,\"- (score, identity):\", scores[d])"
   ]
  },
  {
   "cell_type": "code",
   "execution_count": null,
   "metadata": {},
   "outputs": [],
   "source": []
  }
 ],
 "metadata": {
  "kernelspec": {
   "display_name": "Python 3",
   "language": "python",
   "name": "python3"
  },
  "language_info": {
   "codemirror_mode": {
    "name": "ipython",
    "version": 3
   },
   "file_extension": ".py",
   "mimetype": "text/x-python",
   "name": "python",
   "nbconvert_exporter": "python",
   "pygments_lexer": "ipython3",
   "version": "3.6.8"
  }
 },
 "nbformat": 4,
 "nbformat_minor": 2
}
