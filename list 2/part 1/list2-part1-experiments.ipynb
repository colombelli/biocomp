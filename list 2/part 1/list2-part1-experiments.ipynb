{
 "cells": [
  {
   "cell_type": "code",
   "execution_count": 9,
   "metadata": {},
   "outputs": [],
   "source": [
    "import numpy as np\n",
    "\n",
    "\n",
    "class Aligner:\n",
    "\n",
    "    def __init__(self, seq1, seq2, gapPenalty, missPenalty, matchScore):\n",
    "        self.seq1 = seq1\n",
    "        self.seq2 = seq2\n",
    "        self.gapPenalty = gapPenalty\n",
    "        self.missPenalty = missPenalty\n",
    "        self.matchScore = matchScore\n",
    "        self.alignMatrix = np.zeros(\n",
    "            (len(self.seq1)+1, len(self.seq2)+1), dtype=int)\n",
    "        self.traceBackMatrix = np.zeros(\n",
    "            (len(self.seq1)+1, len(self.seq2)+1), dtype='U4')\n",
    "        self.indexToTrace = {\n",
    "            0: \"d\",\n",
    "            1: \"l\",\n",
    "            2: \"u\"\n",
    "        }\n",
    "        self.finalScore = 0\n",
    "        self.identity = 0\n",
    "\n",
    "        \n",
    "    def getValue(self, i, j):\n",
    "        if self.seq1[i-1] == self.seq2[j-1]:\n",
    "            missOrMatch = self.matchScore\n",
    "        else:\n",
    "            missOrMatch = self.missPenalty\n",
    "\n",
    "        possibleValues = [\n",
    "            self.alignMatrix[i-1][j-1] + missOrMatch,\n",
    "            self.alignMatrix[i][j-1] + self.gapPenalty,\n",
    "            self.alignMatrix[i-1][j] + self.gapPenalty\n",
    "        ]\n",
    "\n",
    "        return max(possibleValues), possibleValues.index(max(possibleValues))\n",
    "\n",
    "\n",
    "    def align(self):\n",
    "\n",
    "        for row in self.traceBackMatrix:\n",
    "            row[0] = \"u\"\n",
    "\n",
    "        for i in range(len(self.traceBackMatrix[0])):\n",
    "            self.traceBackMatrix[0][i] = \"l\"\n",
    "        self.traceBackMatrix[0][0] = \"f\"\n",
    "\n",
    "        accGap = 0\n",
    "        for row in self.alignMatrix:\n",
    "            row[0] = accGap\n",
    "            accGap += self.gapPenalty\n",
    "\n",
    "        accGap = 0\n",
    "        for i in range(len(self.alignMatrix[0])):\n",
    "            self.alignMatrix[0][i] = accGap\n",
    "            accGap += self.gapPenalty\n",
    "\n",
    "        for i, j in np.ndindex(self.alignMatrix.shape):\n",
    "            if i == 0:\n",
    "                continue\n",
    "            if j == 0:\n",
    "                continue\n",
    "\n",
    "            self.alignMatrix[i][j], index = self.getValue(i, j)\n",
    "            self.traceBackMatrix[i][j] = self.indexToTrace[index]\n",
    "\n",
    "        self.finalScore = self.alignMatrix[len(self.seq1)][len(self.seq2)]\n",
    "        self.makeAlignment()\n",
    "\n",
    "        \n",
    "    def makeAlignment(self):\n",
    "\n",
    "        s1 = ''\n",
    "        s2 = ''\n",
    "\n",
    "        i = len(self.seq1)\n",
    "        j = len(self.seq2)\n",
    "        alignType = self.traceBackMatrix[i][j]\n",
    "\n",
    "        while alignType != 'f':\n",
    "\n",
    "            if alignType == 'd':\n",
    "                s1 = self.seq1[i-1] + s1\n",
    "                s2 = self.seq2[j-1] + s2\n",
    "                i -= 1\n",
    "                j -= 1\n",
    "\n",
    "            if alignType == 'l':\n",
    "                s1 = '-' + s1\n",
    "                s2 = self.seq2[j-1] + s2\n",
    "                j -= 1\n",
    "\n",
    "            if alignType == 'u':\n",
    "                s1 = self.seq1[i-1] + s1\n",
    "                s2 = '-' + s2\n",
    "                i -= 1\n",
    "\n",
    "            alignType = self.traceBackMatrix[i][j]\n",
    "\n",
    "        self.s1 = s1\n",
    "        self.s2 = s2\n",
    "\n",
    "        self.getIdentity()\n",
    "\n",
    "\n",
    "    def getIdentity(self):\n",
    "\n",
    "        ident = 0\n",
    "\n",
    "        for i in range(len(self.s1)):\n",
    "            if self.s1[i] == self.s2[i]:\n",
    "                ident += 1\n",
    "\n",
    "        totalPositions = max([len(self.seq1), len(self.seq2)])\n",
    "        self.identity = ident/totalPositions\n",
    "\n",
    "    def printResults(self):\n",
    "        print(self.alignMatrix, '\\n')\n",
    "        print(self.s1)\n",
    "        print(self.s2, '\\n')\n",
    "        print('Final Score:', self.finalScore)\n",
    "        print('Identity:', self.identity)"
   ]
  },
  {
   "cell_type": "code",
   "execution_count": 10,
   "metadata": {},
   "outputs": [
    {
     "name": "stdout",
     "output_type": "stream",
     "text": [
      "[[  0  -2  -4  -6  -8]\n",
      " [ -2   1  -1  -3  -5]\n",
      " [ -4  -1   2   0  -2]\n",
      " [ -6  -3   0   1  -1]\n",
      " [ -8  -5  -2   1   0]\n",
      " [-10  -7  -4  -1   2]] \n",
      "\n",
      "AATCG\n",
      "AA-CG \n",
      "\n",
      "Final Score: 2\n",
      "Identity: 0.8\n"
     ]
    }
   ],
   "source": [
    "aligner = Aligner(\"AATCG\",\"AACG\", -2, -1, 1)\n",
    "aligner.align()\n",
    "aligner.printResults()"
   ]
  },
  {
   "cell_type": "code",
   "execution_count": 3,
   "metadata": {},
   "outputs": [
    {
     "name": "stdout",
     "output_type": "stream",
     "text": [
      "VLSPADKTNVKAAWGKVGAHAGEYGAEALERMFLSFPTTKTYFPHFDLSHGSAQVKGHGKKVADALTNAVAHVDDMPNALSALSDLHAHKLRVDPVNFKLLSHCLLVTLAAHLPAEFTPAVHASLDKFLASVSTVLTSKY\n"
     ]
    }
   ],
   "source": [
    "file1 = open(\"hemoglobins/human.txt\",\"r\")\n",
    "human = file1.read()\n",
    "file1.close()\n",
    "print(human)"
   ]
  },
  {
   "cell_type": "code",
   "execution_count": 6,
   "metadata": {},
   "outputs": [
    {
     "name": "stdout",
     "output_type": "stream",
     "text": [
      "chicken MLTAEDKKLIQQAWEKAASHQEEFGAEALTRMFTTYPQTKTYFPHFDLSPGSDQVRGHGKKVLGALGNAVKNVDNLSQAMAELSNLHAYNLRVDPVNFKLLSQCIQVVLAVHMGKDYTPEVHAAFDKFLSAVSAVLAEKYR \n",
      "\n",
      "cow VLSAADKGNVKAAWGKVGGHAAEYGAEALERMFLSFPTTKTYFPHFDLSHGSAQVKGHGAKVAAALTKAVEHLDDLPGALSELSDLHAHKLRVDPVNFKLLSHSLLVTLASHLPSDFTPAVHASLDKFLANVSTVLTSKYR \n",
      "\n",
      "deer VLSAANKSNVKAAWGKVGGNAPAYGAQALQRMFLSFPTTKTYFPHFDLSHGSAQQKAHGQKVANALTKAQGHLNDLPGTLSNLSNLHAHKLRVNPVNFKLLSHSLLVTLASHLPTNFTPAVHANLNKFLANDSTVLTSKYR \n",
      "\n",
      "horse VLSAADKTNVKAAWSKVGGHAGEYGAEALERMFLGFPTTKTYFPHFDLSHGSAQVKAHGKKVGDALTLAVGHLDDLPGALSNLSDLHAHKLRVDPVNFKLLSHCLLSTLAVHLPNDFTPAVHASLDKFLSSVSTVLTSKYR \n",
      "\n",
      "pig VLSAADKANVKAAWGKVGGQAGAHGAEALERMFLGFPTTKTYFPHFNLSHGSDQVKAHGQKVADALTKAVGHLDDLPGALSALSDLHAHKLRVDPVNFKLLSHCLLVTLAAHHPDDFNPSVHASLDKFLANVSTVLTSKYR \n",
      "\n",
      "trout XSLTAKDKSVVKAFWGKISGKADVVGAEALGRMLTAYPQTKTYFSHWADLSPGSGPVKKHGGIIMGAIGKAVGLMDDLVGGMSALSDLHAFKLRVDPGNFKILSHNILVTLAIHFPSDFTPEVHIAVDKFLAAVSAALADKYR \n",
      "\n",
      "wolf VLSPADKTNIKSTWDKIGGHAGDYGGEALDRTFQSFPTTKTYFPHFDLSPGSAQVKAHGKKVADALTTAVAHLDDLPGALSALSDLHAYKLRVDPVNFKLLSHCLLVTLACHHPTEFTPAVHASLDKFFTAVSTVLTSKYR \n",
      "\n"
     ]
    }
   ],
   "source": [
    "animalList = [\"chicken\", \"cow\", \"deer\", \"horse\", \"pig\", \"trout\", \"wolf\"]\n",
    "animals = {}\n",
    "\n",
    "for animal in animalList:\n",
    "    file1 = open(\"hemoglobins/\"+animal+\".txt\",\"r\")\n",
    "    animalSequence = file1.read()\n",
    "    file1.close()\n",
    "    animals[animal] = animalSequence\n",
    "    \n",
    "    \n",
    "for x, y in animals.items():\n",
    "    print(x, y,\"\\n\")\n"
   ]
  },
  {
   "cell_type": "code",
   "execution_count": 7,
   "metadata": {},
   "outputs": [
    {
     "name": "stdout",
     "output_type": "stream",
     "text": [
      "VLSAADKGNVKAAWGKVGGHAAEYGAEALERMFLSFPTTKTYFPHFDLSHGSAQVKGHGAKVAAALTKAVEHLDDLPGALSELSDLHAHKLRVDPVNFKLLSHSLLVTLASHLPSDFTPAVHASLDKFLANVSTVLTSKYR\n"
     ]
    }
   ],
   "source": [
    "a = animals[\"cow\"]\n",
    "print(a)"
   ]
  },
  {
   "cell_type": "code",
   "execution_count": 14,
   "metadata": {},
   "outputs": [
    {
     "name": "stdout",
     "output_type": "stream",
     "text": [
      "Results for human vs chicken:\n",
      "\n",
      "[[   0   -4   -8 ... -556 -560 -564]\n",
      " [  -4   -3   -7 ... -547 -551 -555]\n",
      " [  -8   -7    2 ... -538 -542 -546]\n",
      " ...\n",
      " [-552 -543 -534 ...  243  239  235]\n",
      " [-556 -547 -538 ...  252  248  244]\n",
      " [-560 -551 -542 ...  248  257  253]] \n",
      "\n",
      "VLSPA-DKTNVKAAWGKVGA-HAGEYGAEALERMFLSFPTTKTYFPHFDLSHGSAQVKGHGKKVADALTNAVAHVDDMPNALS---A-LSDLHAHKLRVDPVNFKLLSHCLLVTLAAHLPAEFTPAVHASLDKFLAS-VSTVLTSKY-\n",
      "ML-TAEDKKLIQQAWEK-AASHQEEFGAEALTRMFTTYPQTKTYFPHFDLSPGSDQVRGHGKKVLGALGNAVKNV-D--N-LSQAMAELSNLHAYNLRVDPVNFKLLSQCIQVVLAVHMGKDYTPEVHAAFDKFL-SAVSAVLAEKYR \n",
      "\n",
      "Final Score: 253\n",
      "Identity: 0.6312056737588653\n",
      "\n",
      "\n",
      "Results for human vs cow:\n",
      "\n",
      "[[   0   -4   -8 ... -556 -560 -564]\n",
      " [  -4    5    1 ... -547 -551 -555]\n",
      " [  -8    1   10 ... -538 -542 -546]\n",
      " ...\n",
      " [-552 -543 -534 ...  550  546  542]\n",
      " [-556 -547 -538 ...  559  555  551]\n",
      " [-560 -551 -542 ...  555  564  560]] \n",
      "\n",
      "VLSPADKTNVKAAWGKVGAHAGEYGAEALERMFLSFPTTKTYFPHFDLSHGSAQVKGHGKKVADALTNAVAHVDDMPNALSALSDLHAHKLRVDPVNFKLLSHCLLVTLAAHLPAEFTPAVHASLDKFLASVSTVLTSKY-\n",
      "VLSAADKGNVKAAWGKVGGHAAEYGAEALERMFLSFPTTKTYFPHFDLSHGSAQVKGHGAKVAAALTKAVEHLDDLPGALSELSDLHAHKLRVDPVNFKLLSHSLLVTLASHLPSDFTPAVHASLDKFLANVSTVLTSKYR \n",
      "\n",
      "Final Score: 560\n",
      "Identity: 0.8723404255319149\n",
      "\n",
      "\n",
      "Results for human vs deer:\n",
      "\n",
      "[[   0   -4   -8 ... -556 -560 -564]\n",
      " [  -4    5    1 ... -547 -551 -555]\n",
      " [  -8    1   10 ... -538 -542 -546]\n",
      " ...\n",
      " [-552 -543 -534 ...  430  426  422]\n",
      " [-556 -547 -538 ...  439  435  431]\n",
      " [-560 -551 -542 ...  435  444  440]] \n",
      "\n",
      "VLSPADKTNVKAAWGKVGAHAGEYGAEALERMFLSFPTTKTYFPHFDLSHGSAQVKGHGKKVADALTNAVAHVDDMPNALSALSDLHAHKLRVDPVNFKLLSHCLLVTLAAHLPAEFTPAVHASLDKFLASVSTVLTSKY-\n",
      "VLSAANKSNVKAAWGKVGGNAPAYGAQALQRMFLSFPTTKTYFPHFDLSHGSAQQKAHGQKVANALTKAQGHLNDLPGTLSNLSNLHAHKLRVNPVNFKLLSHSLLVTLASHLPTNFTPAVHANLNKFLANDSTVLTSKYR \n",
      "\n",
      "Final Score: 440\n",
      "Identity: 0.7659574468085106\n",
      "\n",
      "\n",
      "Results for human vs horse:\n",
      "\n",
      "[[   0   -4   -8 ... -556 -560 -564]\n",
      " [  -4    5    1 ... -547 -551 -555]\n",
      " [  -8    1   10 ... -538 -542 -546]\n",
      " ...\n",
      " [-552 -543 -534 ...  550  546  542]\n",
      " [-556 -547 -538 ...  559  555  551]\n",
      " [-560 -551 -542 ...  555  564  560]] \n",
      "\n",
      "VLSPADKTNVKAAWGKVGAHAGEYGAEALERMFLSFPTTKTYFPHFDLSHGSAQVKGHGKKVADALTNAVAHVDDMPNALSALSDLHAHKLRVDPVNFKLLSHCLLVTLAAHLPAEFTPAVHASLDKFLASVSTVLTSKY-\n",
      "VLSAADKTNVKAAWSKVGGHAGEYGAEALERMFLGFPTTKTYFPHFDLSHGSAQVKAHGKKVGDALTLAVGHLDDLPGALSNLSDLHAHKLRVDPVNFKLLSHCLLSTLAVHLPNDFTPAVHASLDKFLSSVSTVLTSKYR \n",
      "\n",
      "Final Score: 560\n",
      "Identity: 0.8723404255319149\n",
      "\n",
      "\n",
      "Results for human vs pig:\n",
      "\n",
      "[[   0   -4   -8 ... -556 -560 -564]\n",
      " [  -4    5    1 ... -547 -551 -555]\n",
      " [  -8    1   10 ... -538 -542 -546]\n",
      " ...\n",
      " [-552 -543 -534 ...  510  506  502]\n",
      " [-556 -547 -538 ...  519  515  511]\n",
      " [-560 -551 -542 ...  515  524  520]] \n",
      "\n",
      "VLSPADKTNVKAAWGKVGAHAGEYGAEALERMFLSFPTTKTYFPHFDLSHGSAQVKGHGKKVADALTNAVAHVDDMPNALSALSDLHAHKLRVDPVNFKLLSHCLLVTLAAHLPAEFTPAVHASLDKFLASVSTVLTSKY-\n",
      "VLSAADKANVKAAWGKVGGQAGAHGAEALERMFLGFPTTKTYFPHFNLSHGSDQVKAHGQKVADALTKAVGHLDDLPGALSALSDLHAHKLRVDPVNFKLLSHCLLVTLAAHHPDDFNPSVHASLDKFLANVSTVLTSKYR \n",
      "\n",
      "Final Score: 520\n",
      "Identity: 0.8368794326241135\n",
      "\n",
      "\n",
      "Results for human vs trout:\n",
      "\n",
      "[[   0   -4   -8 ... -564 -568 -572]\n",
      " [  -4   -3   -7 ... -555 -559 -563]\n",
      " [  -8   -7   -6 ... -546 -550 -554]\n",
      " ...\n",
      " [-552 -551 -542 ...  210  206  202]\n",
      " [-556 -555 -546 ...  219  215  211]\n",
      " [-560 -559 -550 ...  215  224  220]] \n",
      "\n",
      "VLS-PA-DKTNVKAAWGK-VGAHAGEYGAEALERMFL-SFPTTKTYFPH-FDLSHGSAQVKGHGKKVADALTNAVAHVDDMPNALSALSDLHAHKLRVDPVNFKLLSHCLLVTLAAHLPAEFTPAVH-ASLDKFLASVSTVLTSKY-\n",
      "-XSLTAKDKSVVKAFWGKISG-KADVVGAEALGRM-LTAYPQTKTYFSHWADLSPGSGPVKKHGGIIMGAIGKAVGLMDDLVGGMSALSDLHAFKLRVDPGNFKILSHNILVTLAIHFPSDFTPEVHIA-VDKFLAAVSAALADKYR \n",
      "\n",
      "Final Score: 220\n",
      "Identity: 0.5874125874125874\n",
      "\n",
      "\n",
      "Results for human vs wolf:\n",
      "\n",
      "[[   0   -4   -8 ... -556 -560 -564]\n",
      " [  -4    5    1 ... -547 -551 -555]\n",
      " [  -8    1   10 ... -538 -542 -546]\n",
      " ...\n",
      " [-552 -543 -534 ...  497  493  489]\n",
      " [-556 -547 -538 ...  506  502  498]\n",
      " [-560 -551 -542 ...  502  511  507]] \n",
      "\n",
      "VLSPADKTNVKAAWGKVGAHAGEYGAEALERMFLSFPTTKTYFPHFDLSHGSAQVKGHGKKVADALTNAVAHVDDMPNALSALSDLHAHKLRVDPVNFKLLSHCLLVTLAAHLPAEFTPAVHASLDK-FLASVSTVLTSKY-\n",
      "VLSPADKTNIKSTWDKIGGHAGDYGGEALDRTFQSFPTTKTYFPHFDLSPGSAQVKAHGKKVADALTTAVAHLDDLPGALSALSDLHAYKLRVDPVNFKLLSHCLLVTLACHHPTEFTPAVHASLDKFFTA-VSTVLTSKYR \n",
      "\n",
      "Final Score: 507\n",
      "Identity: 0.8297872340425532\n",
      "\n",
      "\n"
     ]
    }
   ],
   "source": [
    "file1 = open(\"hemoglobins/human.txt\", \"r\")\n",
    "human = file1.read()\n",
    "file1.close()\n",
    "\n",
    "animals = {}\n",
    "\n",
    "animalList = [\"chicken\", \"cow\", \"deer\", \"horse\", \"pig\", \"trout\", \"wolf\"]\n",
    "animals = {}\n",
    "\n",
    "for animal in animalList:\n",
    "    file1 = open(\"hemoglobins/\"+animal+\".txt\", \"r\")\n",
    "    animalSequence = file1.read()\n",
    "    file1.close()\n",
    "    animals[animal] = animalSequence\n",
    "\n",
    "\n",
    "gap = -4\n",
    "match = 5\n",
    "missmatch = -3\n",
    "\n",
    "scores = {}\n",
    "\n",
    "\n",
    "for animal in animalList:\n",
    "\n",
    "    aligner = Aligner(human, animals[animal], gap, missmatch, match)\n",
    "    aligner.align()\n",
    "    scores[\"human vs \"+animal] = (aligner.finalScore, aligner.identity)\n",
    "\n",
    "    print(\"Results for human vs \"+animal+\":\\n\")\n",
    "    aligner.printResults()\n",
    "    print(\"\\n\")"
   ]
  },
  {
   "cell_type": "code",
   "execution_count": 24,
   "metadata": {},
   "outputs": [],
   "source": [
    "bestVal = (0, 0)\n",
    "bestKey = ''\n",
    "draws = []\n",
    "\n",
    "for key, value in scores.items():\n",
    "    \n",
    "    if value[0] > bestVal[0]:\n",
    "        bestVal = value\n",
    "        bestKey = key\n",
    "        draws = []\n",
    "    \n",
    "    elif value[0] == bestVal[0]:\n",
    "        if value[1] > bestVal[1]:\n",
    "            bestVal = value\n",
    "            bestKey = key\n",
    "            draws = []\n",
    "            \n",
    "        elif value[1] == bestVal[1]:\n",
    "            draws.append(key)"
   ]
  },
  {
   "cell_type": "code",
   "execution_count": 25,
   "metadata": {},
   "outputs": [
    {
     "name": "stdout",
     "output_type": "stream",
     "text": [
      "(560, 0.8723404255319149) human vs cow\n"
     ]
    }
   ],
   "source": [
    "print(bestVal, bestKey)"
   ]
  },
  {
   "cell_type": "code",
   "execution_count": 26,
   "metadata": {},
   "outputs": [
    {
     "name": "stdout",
     "output_type": "stream",
     "text": [
      "['human vs horse']\n"
     ]
    }
   ],
   "source": [
    "print(draws)"
   ]
  },
  {
   "cell_type": "code",
   "execution_count": 27,
   "metadata": {},
   "outputs": [
    {
     "name": "stdout",
     "output_type": "stream",
     "text": [
      "\n",
      "The best score was achieved when human vs cow were compared. \n",
      "Obtained score: 560 \n",
      "Obtained identity: 0.8723404255319149\n"
     ]
    }
   ],
   "source": [
    "print(\"\\nThe best score was achieved when \"+bestKey +\n",
    "          \" were compared. \\nObtained score:\", scores[bestKey][0], \"\\nObtained identity:\", scores[bestKey][1])"
   ]
  },
  {
   "cell_type": "code",
   "execution_count": 28,
   "metadata": {},
   "outputs": [
    {
     "name": "stdout",
     "output_type": "stream",
     "text": [
      "\n",
      "More than one sequence aligment produced the same final score and identity.\n",
      "\n",
      "human vs cow - (score, identity): (560, 0.8723404255319149)\n",
      "human vs horse - (score, identity): (560, 0.8723404255319149)\n"
     ]
    }
   ],
   "source": [
    "print(\"\\nMore than one sequence aligment produced the same final score and identity.\\n\")\n",
    "print(bestKey,\"- (score, identity):\", scores[bestKey])\n",
    "\n",
    "for d in draws:\n",
    "    print(d,\"- (score, identity):\", scores[d])"
   ]
  },
  {
   "cell_type": "code",
   "execution_count": null,
   "metadata": {},
   "outputs": [],
   "source": []
  }
 ],
 "metadata": {
  "kernelspec": {
   "display_name": "Python 3",
   "language": "python",
   "name": "python3"
  },
  "language_info": {
   "codemirror_mode": {
    "name": "ipython",
    "version": 3
   },
   "file_extension": ".py",
   "mimetype": "text/x-python",
   "name": "python",
   "nbconvert_exporter": "python",
   "pygments_lexer": "ipython3",
   "version": "3.6.8"
  }
 },
 "nbformat": 4,
 "nbformat_minor": 2
}
