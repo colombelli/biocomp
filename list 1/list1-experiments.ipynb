{
 "cells": [
  {
   "cell_type": "code",
   "execution_count": 2,
   "metadata": {},
   "outputs": [],
   "source": [
    "from Bio import SeqIO\n",
    "records = list(SeqIO.parse(\"sequence.fasta\", \"fasta\"))"
   ]
  },
  {
   "cell_type": "code",
   "execution_count": 3,
   "metadata": {},
   "outputs": [],
   "source": [
    "seq = records[0].seq[0:]"
   ]
  },
  {
   "cell_type": "code",
   "execution_count": 4,
   "metadata": {},
   "outputs": [
    {
     "name": "stdout",
     "output_type": "stream",
     "text": [
      "ye\n"
     ]
    }
   ],
   "source": [
    "if 'CAATTGAATAATTG' in seq:\n",
    "    print('ye')\n",
    "else:\n",
    "    print('no')"
   ]
  },
  {
   "cell_type": "code",
   "execution_count": 5,
   "metadata": {},
   "outputs": [
    {
     "data": {
      "text/plain": [
       "2"
      ]
     },
     "execution_count": 5,
     "metadata": {},
     "output_type": "execute_result"
    }
   ],
   "source": [
    "seq.count('CAATTGAATAATTG')"
   ]
  },
  {
   "cell_type": "code",
   "execution_count": 8,
   "metadata": {},
   "outputs": [
    {
     "name": "stdout",
     "output_type": "stream",
     "text": [
      "AAATTGAATAATTG [0, 0]\n",
      "CAATTGAATAATTG [0, 0]\n",
      "TAATTGAATAATTG [0, 0]\n",
      "GAATTGAATAATTG [0, 0]\n",
      "CCATTGAATAATTG [1, 0]\n",
      "CTATTGAATAATTG [1, 0]\n",
      "CGATTGAATAATTG [1, 0]\n",
      "CACTTGAATAATTG [2, 0]\n",
      "CATTTGAATAATTG [2, 0]\n",
      "CAGTTGAATAATTG [2, 0]\n",
      "CAAATGAATAATTG [3, 0]\n",
      "CAACTGAATAATTG [3, 0]\n",
      "CAAGTGAATAATTG [3, 0]\n",
      "CAATAGAATAATTG [4, 0]\n",
      "CAATCGAATAATTG [4, 0]\n",
      "CAATGGAATAATTG [4, 0]\n",
      "CAATTAAATAATTG [5, 0]\n",
      "CAATTCAATAATTG [5, 0]\n",
      "CAATTTAATAATTG [5, 0]\n",
      "CAATTGCATAATTG [6, 0]\n",
      "CAATTGTATAATTG [6, 0]\n",
      "CAATTGGATAATTG [6, 0]\n",
      "CAATTGACTAATTG [7, 0]\n",
      "CAATTGATTAATTG [7, 0]\n",
      "CAATTGAGTAATTG [7, 0]\n",
      "CAATTGAAAAATTG [8, 0]\n",
      "CAATTGAACAATTG [8, 0]\n",
      "CAATTGAAGAATTG [8, 0]\n",
      "CAATTGAATCATTG [9, 0]\n",
      "CAATTGAATTATTG [9, 0]\n",
      "CAATTGAATGATTG [9, 0]\n",
      "CAATTGAATACTTG [10, 0]\n",
      "CAATTGAATATTTG [10, 0]\n",
      "CAATTGAATAGTTG [10, 0]\n",
      "CAATTGAATAAATG [11, 0]\n",
      "CAATTGAATAACTG [11, 0]\n",
      "CAATTGAATAAGTG [11, 0]\n",
      "CAATTGAATAATAG [12, 0]\n",
      "CAATTGAATAATCG [12, 0]\n",
      "CAATTGAATAATGG [12, 0]\n",
      "CAATTGAATAATTA [13, 0]\n",
      "CAATTGAATAATTC [13, 0]\n",
      "CAATTGAATAATTT [13, 0]\n"
     ]
    }
   ],
   "source": [
    "searchingSeq = 'CAATTGAATAATTG'\n",
    "nucleotides = ['A', 'C', 'T', 'G']\n",
    "\n",
    "possibleSeq = {}\n",
    "\n",
    "for idx in range(len(searchingSeq)):\n",
    "    for n in nucleotides:\n",
    "        newSeq = list(searchingSeq)\n",
    "        newSeq[idx] = n\n",
    "        strNewSeq = ''.join(newSeq)\n",
    "        if not(strNewSeq in possibleSeq):\n",
    "            possibleSeq[strNewSeq] = [idx, 0]\n",
    "        \n",
    "for x, y in possibleSeq.items():\n",
    "    print(x, y) "
   ]
  },
  {
   "cell_type": "code",
   "execution_count": 12,
   "metadata": {
    "scrolled": true
   },
   "outputs": [
    {
     "name": "stdout",
     "output_type": "stream",
     "text": [
      "CAATAGAATAATTG [5, 1] 20843949\n",
      "CAATTAAATAATTG [6, 1] 35769315\n",
      "CAATTCAATAATTG [6, 1] 48205636\n",
      "CAATTTAATAATTG [6, 1] 47003091\n",
      "CAATTGAATGATTG [10, 1] 3630527\n",
      "CAATTGAATATTTG [11, 1] 58013515\n",
      "CAATTGAATAACTG [12, 1] 36409919\n",
      "CAATTGAATAATTT [14, 1] 8010831\n"
     ]
    }
   ],
   "source": [
    "\n",
    "for s in possibleSeq:\n",
    "    occurrences = seq.count(s)\n",
    "    idx, oc = possibleSeq[s]\n",
    "    possibleSeq[s] = [idx, occurrences]\n",
    "\n",
    "newFinalDict = {}\n",
    "\n",
    "for s in possibleSeq:\n",
    "    idx, oc = possibleSeq[s]\n",
    "    if oc == 1:\n",
    "        newFinalDict[s] = [idx+1, oc] \n",
    "\n",
    "for key, val in newFinalDict.items():\n",
    "    print(key, val, seq.find(key)) "
   ]
  },
  {
   "cell_type": "code",
   "execution_count": 20,
   "metadata": {},
   "outputs": [
    {
     "name": "stdout",
     "output_type": "stream",
     "text": [
      "Original  given subsequence: CAATTGAATAATTG\n",
      "-----------------------------------------------------------------\n",
      "\n",
      "Unique sequence: CAATAGAATAATTG\n",
      "ith position changed: 5\n",
      "Starting index position to find the subsequence in the original chromosome 7 sequence: 20843949\n",
      "Original (mutated) given nucleotide: T\n",
      "Changed (theoretical unique and non-mutated) nucleotide: A\n",
      "-----------------------------------------------------------------\n",
      "\n",
      "Unique sequence: CAATTAAATAATTG\n",
      "ith position changed: 6\n",
      "Starting index position to find the subsequence in the original chromosome 7 sequence: 35769315\n",
      "Original (mutated) given nucleotide: G\n",
      "Changed (theoretical unique and non-mutated) nucleotide: A\n",
      "-----------------------------------------------------------------\n",
      "\n",
      "Unique sequence: CAATTCAATAATTG\n",
      "ith position changed: 6\n",
      "Starting index position to find the subsequence in the original chromosome 7 sequence: 48205636\n",
      "Original (mutated) given nucleotide: G\n",
      "Changed (theoretical unique and non-mutated) nucleotide: C\n",
      "-----------------------------------------------------------------\n",
      "\n",
      "Unique sequence: CAATTTAATAATTG\n",
      "ith position changed: 6\n",
      "Starting index position to find the subsequence in the original chromosome 7 sequence: 47003091\n",
      "Original (mutated) given nucleotide: G\n",
      "Changed (theoretical unique and non-mutated) nucleotide: T\n",
      "-----------------------------------------------------------------\n",
      "\n",
      "Unique sequence: CAATTGAATGATTG\n",
      "ith position changed: 10\n",
      "Starting index position to find the subsequence in the original chromosome 7 sequence: 3630527\n",
      "Original (mutated) given nucleotide: A\n",
      "Changed (theoretical unique and non-mutated) nucleotide: G\n",
      "-----------------------------------------------------------------\n",
      "\n",
      "Unique sequence: CAATTGAATATTTG\n",
      "ith position changed: 11\n",
      "Starting index position to find the subsequence in the original chromosome 7 sequence: 58013515\n",
      "Original (mutated) given nucleotide: A\n",
      "Changed (theoretical unique and non-mutated) nucleotide: T\n",
      "-----------------------------------------------------------------\n",
      "\n",
      "Unique sequence: CAATTGAATAACTG\n",
      "ith position changed: 12\n",
      "Starting index position to find the subsequence in the original chromosome 7 sequence: 36409919\n",
      "Original (mutated) given nucleotide: T\n",
      "Changed (theoretical unique and non-mutated) nucleotide: C\n",
      "-----------------------------------------------------------------\n",
      "\n",
      "Unique sequence: CAATTGAATAATTT\n",
      "ith position changed: 14\n",
      "Starting index position to find the subsequence in the original chromosome 7 sequence: 8010831\n",
      "Original (mutated) given nucleotide: G\n",
      "Changed (theoretical unique and non-mutated) nucleotide: T\n",
      "-----------------------------------------------------------------\n",
      "\n"
     ]
    }
   ],
   "source": [
    "print(\"Original  given subsequence:\", searchingSeq)\n",
    "print(\"-----------------------------------------------------------------\\n\")\n",
    "\n",
    "for key, val in newFinalDict.items():\n",
    "    givenNucleotide = searchingSeq[val[0]-1]\n",
    "    nucleotideChanged = key[val[0]-1]\n",
    "    print(\"Unique sequence:\", key) \n",
    "    print(\"ith position that changed:\", val[0])\n",
    "    print(\"Starting index position to find the subsequence in the original chromosome 7 sequence:\", seq.find(key))\n",
    "    print(\"Original (mutated) given nucleotide:\", givenNucleotide)\n",
    "    print(\"Changed (theoretical unique and non-mutated) nucleotide:\", nucleotideChanged)\n",
    "    print(\"-----------------------------------------------------------------\\n\")"
   ]
  },
  {
   "cell_type": "code",
   "execution_count": 22,
   "metadata": {},
   "outputs": [],
   "source": [
    "# Removing 'N' chars from the sequence\n",
    "\n",
    "seqProc = str(seq)\n",
    "nonNuc = []\n",
    "\n",
    "for s in seqProc:\n",
    "    if (not (s in nucleotides)):\n",
    "        if (not (s in nonNuc)):\n",
    "            nonNuc.append(s)\n",
    "\n",
    "for s in nonNuc:\n",
    "    seqProc = seqProc.replace(s, '')"
   ]
  },
  {
   "cell_type": "code",
   "execution_count": 23,
   "metadata": {},
   "outputs": [
    {
     "name": "stdout",
     "output_type": "stream",
     "text": [
      "58109653\n",
      "58107257\n"
     ]
    }
   ],
   "source": [
    "print(len(seq))\n",
    "print(len(seqProc))"
   ]
  },
  {
   "cell_type": "code",
   "execution_count": 26,
   "metadata": {
    "scrolled": true
   },
   "outputs": [
    {
     "name": "stdout",
     "output_type": "stream",
     "text": [
      "Palindromes of size 11: 361229\n",
      "Palindromes of size 9: 717898\n"
     ]
    }
   ],
   "source": [
    "# Counting palindromes (11 and 9)\n",
    "\n",
    "def countPalindromes(paSize):\n",
    "    i = 0\n",
    "    j = paSize\n",
    "    \n",
    "    seqLen = len(seqProc)\n",
    "    counted = 0\n",
    "\n",
    "    while j <= seqLen:\n",
    "        currentSeq = seqProc[i:j]\n",
    "        if(currentSeq==currentSeq[::-1]):\n",
    "            counted += 1\n",
    "\n",
    "        i += 1\n",
    "        j += 1\n",
    "\n",
    "    print(\"Palindromes of size %d:\" %(paSize), counted)\n",
    "\n",
    "countPalindromes(11)\n",
    "countPalindromes(9)"
   ]
  },
  {
   "cell_type": "code",
   "execution_count": null,
   "metadata": {},
   "outputs": [],
   "source": [
    "# Counting sequences of size 37\n",
    "\n",
    "seqOcur = {}\n",
    "\n",
    "i = 0\n",
    "j = 37  \n",
    "seqLen = len(seqProc)\n",
    "\n",
    "while j <= seqLen:\n",
    "    \n",
    "    if (seqProc[i:j] in seqOcur):\n",
    "        seqOcur[seqProc[i:j]] += 1\n",
    "    else:\n",
    "        seqOcur[seqProc[i:j]] = 1\n",
    "    \n",
    "    i += 1\n",
    "    j += 1\n",
    "        \n",
    "for key, value in seqOcur.items():\n",
    "    print(key, value) "
   ]
  },
  {
   "cell_type": "code",
   "execution_count": null,
   "metadata": {},
   "outputs": [],
   "source": [
    "# Counting sequences of size 37\n",
    "\n",
    "seqOcur = []\n",
    "\n",
    "i = 0\n",
    "j = 37  \n",
    "seqLen = len(seqProc)\n",
    "\n",
    "while j <= seqLen:\n",
    "    \n",
    "    if not(seqProc[i:j] in seqOcur):\n",
    "        if len(seqOcur) < 1000000:\n",
    "            seqOcur.append(seqProc[i:j])\n",
    "        else:\n",
    "            print(j, \"failed\")\n",
    "    \n",
    "    i += 1\n",
    "    j += 1\n",
    "        "
   ]
  },
  {
   "cell_type": "code",
   "execution_count": 28,
   "metadata": {},
   "outputs": [
    {
     "name": "stdout",
     "output_type": "stream",
     "text": [
      "C 11918693\n",
      "T 17132531\n",
      "A 17146584\n",
      "G 11909449\n",
      "Non-nucleotide found: N 2396\n"
     ]
    }
   ],
   "source": [
    "# Counting the nucleotides\n",
    "\n",
    "finalCount = {}\n",
    "\n",
    "for n in seq:\n",
    "    if n in finalCount:\n",
    "        finalCount[n] += 1\n",
    "    else:\n",
    "        finalCount[n] = 1\n",
    "        \n",
    "for n in finalCount:\n",
    "    if n in nucleotides:\n",
    "        print(n, \"- amount found:\", finalCount[n])\n",
    "    else:\n",
    "        print(\"Non-nucleotide found:\", n, \"- amount found:\", finalCount[n])\n",
    "    "
   ]
  },
  {
   "cell_type": "code",
   "execution_count": 30,
   "metadata": {},
   "outputs": [
    {
     "ename": "KeyboardInterrupt",
     "evalue": "",
     "output_type": "error",
     "traceback": [
      "\u001b[1;31m---------------------------------------------------------------------------\u001b[0m",
      "\u001b[1;31mKeyboardInterrupt\u001b[0m                         Traceback (most recent call last)",
      "\u001b[1;32m<ipython-input-30-cdfbf1db7a3f>\u001b[0m in \u001b[0;36m<module>\u001b[1;34m\u001b[0m\n\u001b[0;32m      6\u001b[0m         \u001b[0mcompRib\u001b[0m \u001b[1;33m+=\u001b[0m \u001b[1;34m'T'\u001b[0m\u001b[1;33m\u001b[0m\u001b[1;33m\u001b[0m\u001b[0m\n\u001b[0;32m      7\u001b[0m     \u001b[1;32melif\u001b[0m \u001b[0mn\u001b[0m \u001b[1;33m==\u001b[0m \u001b[1;34m'T'\u001b[0m\u001b[1;33m:\u001b[0m\u001b[1;33m\u001b[0m\u001b[1;33m\u001b[0m\u001b[0m\n\u001b[1;32m----> 8\u001b[1;33m         \u001b[0mcompRib\u001b[0m \u001b[1;33m+=\u001b[0m \u001b[1;34m'A'\u001b[0m\u001b[1;33m\u001b[0m\u001b[1;33m\u001b[0m\u001b[0m\n\u001b[0m\u001b[0;32m      9\u001b[0m     \u001b[1;32melif\u001b[0m \u001b[0mn\u001b[0m \u001b[1;33m==\u001b[0m \u001b[1;34m'C'\u001b[0m\u001b[1;33m:\u001b[0m\u001b[1;33m\u001b[0m\u001b[1;33m\u001b[0m\u001b[0m\n\u001b[0;32m     10\u001b[0m         \u001b[0mcompRib\u001b[0m \u001b[1;33m+=\u001b[0m \u001b[1;34m'G'\u001b[0m\u001b[1;33m\u001b[0m\u001b[1;33m\u001b[0m\u001b[0m\n",
      "\u001b[1;31mKeyboardInterrupt\u001b[0m: "
     ]
    }
   ],
   "source": [
    "# Constructing the complementary ADN ribbon\n",
    "\n",
    "compRib = ''\n",
    "for n in seq:\n",
    "    if n == 'A':\n",
    "        compRib += 'T'\n",
    "    elif n == 'T':\n",
    "        compRib += 'A'\n",
    "    elif n == 'C':\n",
    "        compRib += 'G'\n",
    "    elif n == 'G':\n",
    "        compRib += 'C'\n",
    "    else:\n",
    "        compRib += n\n",
    "    "
   ]
  },
  {
   "cell_type": "code",
   "execution_count": null,
   "metadata": {},
   "outputs": [],
   "source": [
    "print(compRib)"
   ]
  }
 ],
 "metadata": {
  "kernelspec": {
   "display_name": "Python 3",
   "language": "python",
   "name": "python3"
  },
  "language_info": {
   "codemirror_mode": {
    "name": "ipython",
    "version": 3
   },
   "file_extension": ".py",
   "mimetype": "text/x-python",
   "name": "python",
   "nbconvert_exporter": "python",
   "pygments_lexer": "ipython3",
   "version": "3.6.8"
  }
 },
 "nbformat": 4,
 "nbformat_minor": 2
}
